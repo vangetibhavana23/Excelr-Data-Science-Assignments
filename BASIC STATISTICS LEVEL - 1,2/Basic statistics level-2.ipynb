{
 "cells": [
  {
   "cell_type": "markdown",
   "id": "636b5e3f",
   "metadata": {},
   "source": [
    "# SET-1"
   ]
  },
  {
   "cell_type": "code",
   "execution_count": 1,
   "id": "319bfe3d",
   "metadata": {},
   "outputs": [],
   "source": [
    "import pandas as pd\n",
    "import numpy as np\n",
    "from matplotlib import pyplot as plt"
   ]
  },
  {
   "cell_type": "code",
   "execution_count": 3,
   "id": "1a5d5531",
   "metadata": {},
   "outputs": [],
   "source": [
    "x=pd.Series([24.23,25.53,25.41,24.14,29.62,28.25,25.81,24.39,40.26,32.95,91.36,25.99,39.42,26.71,35.00])"
   ]
  },
  {
   "cell_type": "code",
   "execution_count": 4,
   "id": "c1800be9",
   "metadata": {},
   "outputs": [],
   "source": [
    "company=['Allied Signal','Bankers Trust','General Mills','ITT Industries','J.P.Morgan & Co.','Lehman Brothers',\n",
    "      'Marriott','MCI','Merrill Lynch','Microsoft','Morgan Stanley','Sun Microsystems','Travelers','US Airways',\n",
    "      'Warner-Lambert']"
   ]
  },
  {
   "cell_type": "code",
   "execution_count": 16,
   "id": "2290856d",
   "metadata": {},
   "outputs": [
    {
     "data": {
      "image/png": "[encoded data removed]",
      "text/plain": [
       "<Figure size 1000x600 with 1 Axes>"
      ]
     },
     "metadata": {},
     "output_type": "display_data"
    }
   ],
   "source": [
    "plt.figure(figsize=(10, 6))\n",
    "plt.boxplot(x, vert=False)\n",
    "plt.title(\"Box Plot of Measure X\")\n",
    "plt.xlabel(\"Measure X\")\n",
    "plt.show()"
   ]
  },
  {
   "cell_type": "code",
   "execution_count": 13,
   "id": "d8ab51f7",
   "metadata": {},
   "outputs": [
    {
     "data": {
      "text/plain": [
       "33.27133333333333"
      ]
     },
     "execution_count": 13,
     "metadata": {},
     "output_type": "execute_result"
    }
   ],
   "source": [
    "x.mean()"
   ]
  },
  {
   "cell_type": "code",
   "execution_count": 14,
   "id": "b4370d8b",
   "metadata": {},
   "outputs": [
    {
     "data": {
      "text/plain": [
       "287.1466123809524"
      ]
     },
     "execution_count": 14,
     "metadata": {},
     "output_type": "execute_result"
    }
   ],
   "source": [
    "x.var()"
   ]
  },
  {
   "cell_type": "code",
   "execution_count": 15,
   "id": "62cda46c",
   "metadata": {},
   "outputs": [
    {
     "data": {
      "text/plain": [
       "16.945400921222028"
      ]
     },
     "execution_count": 15,
     "metadata": {},
     "output_type": "execute_result"
    }
   ],
   "source": [
    "x.std()"
   ]
  },
  {
   "cell_type": "markdown",
   "id": "fcef4eff",
   "metadata": {},
   "source": [
    "# SET-2"
   ]
  },
  {
   "cell_type": "code",
   "execution_count": 17,
   "id": "f7eabc0a",
   "metadata": {},
   "outputs": [
    {
     "name": "stdout",
     "output_type": "stream",
     "text": [
      "The probability that the service manager cannot meet his commitment: 0.0304\n"
     ]
    }
   ],
   "source": [
    "import scipy.stats as stats\n",
    "\n",
    "# Define the mean and standard deviation\n",
    "mean = 45  # μ in minutes\n",
    "std_dev = 8  # σ in minutes\n",
    "\n",
    "# Define the desired time limit in minutes\n",
    "time_limit = 60  # 1 hour\n",
    "\n",
    "# Calculate the z-score for the time limit\n",
    "z_score = (time_limit - mean) / std_dev\n",
    "\n",
    "# Calculate the probability that X > time_limit\n",
    "probability = 1 - stats.norm.cdf(z_score)\n",
    "\n",
    "print(f\"The probability that the service manager cannot meet his commitment: {probability:.4f}\")"
   ]
  },
  {
   "cell_type": "code",
   "execution_count": 18,
   "id": "2a9423c9",
   "metadata": {},
   "outputs": [
    {
     "data": {
      "text/plain": [
       "36.484487890347154"
      ]
     },
     "execution_count": 18,
     "metadata": {},
     "output_type": "execute_result"
    }
   ],
   "source": [
    "# Define the mean and standard deviation\n",
    "mean = 38\n",
    "std_dev = 6\n",
    "\n",
    "# Define the age threshold\n",
    "age_threshold = 30\n",
    "\n",
    "# Calculate the probability of an employee being under the age of 30\n",
    "prob_under_30 = stats.norm.cdf(age_threshold, loc=mean, scale=std_dev)\n",
    "\n",
    "# Calculate the expected number of employees under 30\n",
    "total_employees = 400\n",
    "expected_employees_under_30 = total_employees * prob_under_30\n",
    "\n",
    "expected_employees_under_30"
   ]
  },
  {
   "cell_type": "code",
   "execution_count": 19,
   "id": "535ddc11",
   "metadata": {},
   "outputs": [
    {
     "data": {
      "text/plain": [
       "(48.48341392902199, 151.516586070978)"
      ]
     },
     "execution_count": 19,
     "metadata": {},
     "output_type": "execute_result"
    }
   ],
   "source": [
    "stats.norm.interval(0.99,100,20)"
   ]
  },
  {
   "cell_type": "code",
   "execution_count": null,
   "id": "58bb7e8e",
   "metadata": {},
   "outputs": [],
   "source": []
  },
  {
   "cell_type": "code",
   "execution_count": null,
   "id": "10cb1ee7",
   "metadata": {},
   "outputs": [],
   "source": []
  },
  {
   "cell_type": "code",
   "execution_count": null,
   "id": "e2e40da5",
   "metadata": {},
   "outputs": [],
   "source": []
  },
  {
   "cell_type": "code",
   "execution_count": null,
   "id": "38cba170",
   "metadata": {},
   "outputs": [],
   "source": []
  },
  {
   "cell_type": "code",
   "execution_count": null,
   "id": "b51c8a5a",
   "metadata": {},
   "outputs": [],
   "source": []
  },
  {
   "cell_type": "code",
   "execution_count": null,
   "id": "02faa40c",
   "metadata": {},
   "outputs": [],
   "source": []
  }
 ],
 "metadata": {
  "kernelspec": {
   "display_name": "Python 3 (ipykernel)",
   "language": "python",
   "name": "python3"
  },
  "language_info": {
   "codemirror_mode": {
    "name": "ipython",
    "version": 3
   },
   "file_extension": ".py",
   "mimetype": "text/x-python",
   "name": "python",
   "nbconvert_exporter": "python",
   "pygments_lexer": "ipython3",
   "version": "3.11.3"
  }
 },
 "nbformat": 4,
 "nbformat_minor": 5
}
